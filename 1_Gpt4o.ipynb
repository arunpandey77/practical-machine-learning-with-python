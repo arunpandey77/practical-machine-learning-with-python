{
  "nbformat": 4,
  "nbformat_minor": 0,
  "metadata": {
    "colab": {
      "provenance": [],
      "gpuType": "T4",
      "authorship_tag": "ABX9TyNuasVVRgQKR0u9giOQIIUM",
      "include_colab_link": true
    },
    "kernelspec": {
      "name": "python3",
      "display_name": "Python 3"
    },
    "language_info": {
      "name": "python"
    },
    "accelerator": "GPU"
  },
  "cells": [
    {
      "cell_type": "markdown",
      "metadata": {
        "id": "view-in-github",
        "colab_type": "text"
      },
      "source": [
        "<a href=\"https://colab.research.google.com/github/arunpandey77/practical-machine-learning-with-python/blob/master/1_Gpt4o.ipynb\" target=\"_parent\"><img src=\"https://colab.research.google.com/assets/colab-badge.svg\" alt=\"Open In Colab\"/></a>"
      ]
    },
    {
      "cell_type": "code",
      "source": [
        "from openai import OpenAI\n",
        "\n",
        "OPENAI_API_KEY = \"<your-api-key>\"\n",
        "\n",
        "def openai_chat_resolve(response: dict, strip_tokens=None) -> str:\n",
        "    if strip_tokens is None:\n",
        "        strip_tokens = []\n",
        "    if response and response.choices and len(response.choices) > 0:\n",
        "        content = response.choices[0].message.content.strip()\n",
        "        for token in strip_tokens:\n",
        "            content = content.replace(token, '')\n",
        "        return content\n",
        "    raise Exception(f'Cannot resolve response: {response}')\n",
        "\n",
        "def openai_chat_request(prompt: str, model_name: str, temperature=0.0):\n",
        "    message = {'role': 'user', 'content': prompt}\n",
        "    client = OpenAI(api_key=OPENAI_API_KEY)\n",
        "    return client.chat.completions.create(\n",
        "        model=model_name,\n",
        "        messages=[message],\n",
        "        temperature=temperature,\n",
        "    )\n",
        "\n",
        "response = openai_chat_request(prompt=\"Hello!\", model_name=\"gpt-4o-2024-05-13\")\n",
        "answer = openai_chat_resolve(response)\n",
        "print(answer)"
      ],
      "metadata": {
        "id": "TRgAYrNysFhB"
      },
      "execution_count": null,
      "outputs": []
    }
  ]
}